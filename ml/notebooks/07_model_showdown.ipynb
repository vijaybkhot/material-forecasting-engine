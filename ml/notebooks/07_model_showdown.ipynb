{
 "cells": [
  {
   "cell_type": "code",
   "execution_count": 116,
   "id": "56d34b8e",
   "metadata": {},
   "outputs": [
    {
     "name": "stdout",
     "output_type": "stream",
     "text": [
      "✓ Data and benchmark scores loaded.\n"
     ]
    }
   ],
   "source": [
    "# === IMPORTS & SETUP ===\n",
    "import pandas as pd\n",
    "import numpy as np\n",
    "import matplotlib.pyplot as plt\n",
    "import joblib\n",
    "import json\n",
    "from datetime import datetime\n",
    "from pathlib import Path\n",
    "from dotenv import load_dotenv\n",
    "import os\n",
    "\n",
    "from sqlalchemy import create_engine\n",
    "from prophet import Prophet\n",
    "from sklearn.model_selection import TimeSeriesSplit\n",
    "from statsmodels.graphics.tsaplots import plot_acf, plot_pacf\n",
    "from statsmodels.tsa.statespace.sarimax import SARIMAX\n",
    "\n",
    "# === HELPER FUNCTIONS ===\n",
    "def find_project_root(markers=(\".env\", \"pyproject.toml\", \".git\")):\n",
    "    start = Path.cwd().resolve()\n",
    "    for parent in [start, *start.parents]:\n",
    "        if any((parent / m).exists() for m in markers):\n",
    "            return parent\n",
    "    raise RuntimeError(\"Project root not found.\")\n",
    "\n",
    "def calculate_smape(actual, predicted):\n",
    "    return np.mean(2 * np.abs(predicted - actual) / (np.abs(actual) + np.abs(predicted))) * 100\n",
    "\n",
    "# === LOAD DATA ===\n",
    "project_root = find_project_root()\n",
    "load_dotenv(project_root / '.env')\n",
    "\n",
    "DATABASE_URL = os.getenv(\"DATABASE_URL_ALEMBIC\") or os.getenv(\"DATABASE_URL\")\n",
    "if not DATABASE_URL:\n",
    "    raise ValueError(\"DATABASE_URL not set in .env\")\n",
    "\n",
    "engine = create_engine(DATABASE_URL)\n",
    "query = \"SELECT date, value FROM raw_series WHERE series_id = 'PPI_STEEL' ORDER BY date\"\n",
    "original_df = pd.read_sql(query, engine, index_col='date').asfreq('MS')\n",
    "\n",
    "# Benchmark scores from previous Exponential Smoothing experiment\n",
    "es_scores = {\n",
    "    'ES (Multiplicative, Damped)': {'Mean sMAPE': 9.38, 'Std Dev sMAPE': 9.93},\n",
    "    'ES (Additive)': {'Mean sMAPE': 15.25, 'Std Dev sMAPE': 9.31}\n",
    "}\n",
    "\n",
    "print(\"✓ Data and benchmark scores loaded.\")\n"
   ]
  },
  {
   "cell_type": "markdown",
   "id": "b232cacd",
   "metadata": {},
   "source": [
    "## Model Showdown: Prophet vs SARIMAX\n",
    "\n",
    "This notebook tests **Prophet** and **SARIMAX** against the previous champion (Exponential Smoothing) using the same cross-validation setup:\n",
    "- 5 folds, 12-month test horizon\n",
    "- sMAPE as the primary metric\n",
    "\n",
    "We'll pick the model with the lowest average error as the final champion."
   ]
  },
  {
   "cell_type": "code",
   "execution_count": 117,
   "id": "958e5fc2",
   "metadata": {},
   "outputs": [
    {
     "name": "stderr",
     "output_type": "stream",
     "text": [
      "07:42:12 - cmdstanpy - INFO - Chain [1] start processing\n"
     ]
    },
    {
     "name": "stdout",
     "output_type": "stream",
     "text": [
      "Running cross-validation for Prophet...\n"
     ]
    },
    {
     "name": "stderr",
     "output_type": "stream",
     "text": [
      "07:42:12 - cmdstanpy - INFO - Chain [1] done processing\n",
      "07:42:12 - cmdstanpy - INFO - Chain [1] start processing\n",
      "07:42:12 - cmdstanpy - INFO - Chain [1] start processing\n",
      "07:42:12 - cmdstanpy - INFO - Chain [1] done processing\n",
      "07:42:12 - cmdstanpy - INFO - Chain [1] done processing\n"
     ]
    },
    {
     "name": "stdout",
     "output_type": "stream",
     "text": [
      "  -> Fold 1 sMAPE: 23.47%\n"
     ]
    },
    {
     "name": "stderr",
     "output_type": "stream",
     "text": [
      "07:42:13 - cmdstanpy - INFO - Chain [1] start processing\n",
      "07:42:13 - cmdstanpy - INFO - Chain [1] done processing\n",
      "07:42:13 - cmdstanpy - INFO - Chain [1] done processing\n"
     ]
    },
    {
     "name": "stdout",
     "output_type": "stream",
     "text": [
      "  -> Fold 2 sMAPE: 59.83%\n"
     ]
    },
    {
     "name": "stderr",
     "output_type": "stream",
     "text": [
      "07:42:13 - cmdstanpy - INFO - Chain [1] start processing\n",
      "07:42:13 - cmdstanpy - INFO - Chain [1] done processing\n",
      "07:42:13 - cmdstanpy - INFO - Chain [1] done processing\n"
     ]
    },
    {
     "name": "stdout",
     "output_type": "stream",
     "text": [
      "  -> Fold 3 sMAPE: 29.55%\n"
     ]
    },
    {
     "name": "stderr",
     "output_type": "stream",
     "text": [
      "07:42:13 - cmdstanpy - INFO - Chain [1] start processing\n",
      "07:42:13 - cmdstanpy - INFO - Chain [1] done processing\n",
      "07:42:13 - cmdstanpy - INFO - Chain [1] done processing\n"
     ]
    },
    {
     "name": "stdout",
     "output_type": "stream",
     "text": [
      "  -> Fold 4 sMAPE: 6.12%\n",
      "  -> Fold 5 sMAPE: 19.55%\n",
      "\n",
      "Prophet validation complete.\n"
     ]
    }
   ],
   "source": [
    "# --- 2. ROBUST VALIDATION FOR PROPHET ---\n",
    "tscv = TimeSeriesSplit(n_splits=5, test_size=12)\n",
    "prophet_scores = []\n",
    "\n",
    "print(\"Running cross-validation for Prophet...\")\n",
    "for i, (train_index, test_index) in enumerate(tscv.split(original_df)):\n",
    "    train_split = original_df.iloc[train_index]\n",
    "    test_split = original_df.iloc[test_index]\n",
    "\n",
    "    # Prepare data for Prophet\n",
    "    prophet_train_df = train_split.reset_index().rename(columns={'date': 'ds', 'value': 'y'})\n",
    "\n",
    "    # Train model\n",
    "    model_prophet = Prophet()\n",
    "    model_prophet.fit(prophet_train_df)\n",
    "\n",
    "    # Forecast\n",
    "    future = model_prophet.make_future_dataframe(periods=len(test_split), freq='MS')\n",
    "    forecast = model_prophet.predict(future)\n",
    "\n",
    "    # Evaluate\n",
    "    predictions = forecast.set_index('ds').loc[test_split.index]['yhat']\n",
    "    score = calculate_smape(test_split['value'], predictions)\n",
    "    prophet_scores.append(score)\n",
    "    print(f\"  -> Fold {i+1} sMAPE: {score:.2f}%\")\n",
    "\n",
    "# Add Prophet's robust scores to our results\n",
    "es_scores['Prophet (Simple)'] = {\n",
    "    'Mean sMAPE': np.mean(prophet_scores),\n",
    "    'Std Dev sMAPE': np.std(prophet_scores)\n",
    "}\n",
    "print(\"\\nProphet validation complete.\")"
   ]
  },
  {
   "cell_type": "markdown",
   "id": "c5cf6ba9",
   "metadata": {},
   "source": [
    "## Step 1: Test Prophet\n",
    "\n",
    "We train Prophet on each training fold and evaluate it on the test fold. Prophet is a popular forecasting tool but may not perform well on all datasets."
   ]
  },
  {
   "cell_type": "code",
   "execution_count": 118,
   "id": "c9516604",
   "metadata": {},
   "outputs": [
    {
     "data": {
      "image/png": "[encoded data removed]",
      "text/plain": [
       "<Figure size 1200x800 with 2 Axes>"
      ]
     },
     "metadata": {},
     "output_type": "display_data"
    }
   ],
   "source": [
    "# --- 3. SARIMAX MODEL - PARAMETER TUNING ---\n",
    "# We use the differenced data to find p and q\n",
    "differenced_data = original_df['value'].diff().dropna()\n",
    "\n",
    "fig, (ax1, ax2) = plt.subplots(2, 1, figsize=(12, 8))\n",
    "plot_acf(differenced_data, ax=ax1, lags=24)\n",
    "plot_pacf(differenced_data, ax=ax2, lags=24)\n",
    "plt.show()"
   ]
  },
  {
   "cell_type": "markdown",
   "id": "6b175b9d",
   "metadata": {},
   "source": [
    "## Step 2: Pick SARIMAX Parameters\n",
    "\n",
    "SARIMAX needs AR (p), differencing (d), and MA (q) orders. We look at ACF and PACF plots of the differenced data:\n",
    "- **ACF** cuts off after lag 1 → q=1\n",
    "- **PACF** cuts off after lag 1 → p=1\n",
    "\n",
    "We'll use **order=(1,1,1)** and **seasonal_order=(1,1,1,12)** for monthly seasonality."
   ]
  },
  {
   "cell_type": "code",
   "execution_count": 119,
   "id": "d20d1f7e",
   "metadata": {},
   "outputs": [
    {
     "name": "stdout",
     "output_type": "stream",
     "text": [
      "\n",
      "Running cross-validation for SARIMAX...\n",
      "  -> Fold 1 sMAPE: 26.34%\n",
      "  -> Fold 1 sMAPE: 26.34%\n",
      "  -> Fold 2 sMAPE: 5.79%\n",
      "  -> Fold 2 sMAPE: 5.79%\n",
      "  -> Fold 3 sMAPE: 2.47%\n",
      "  -> Fold 3 sMAPE: 2.47%\n",
      "  -> Fold 4 sMAPE: 7.66%\n",
      "  -> Fold 4 sMAPE: 7.66%\n",
      "  -> Fold 5 sMAPE: 3.14%\n",
      "\n",
      "SARIMAX validation complete.\n",
      "  -> Fold 5 sMAPE: 3.14%\n",
      "\n",
      "SARIMAX validation complete.\n"
     ]
    }
   ],
   "source": [
    "# --- 4. ROBUST VALIDATION FOR SARIMAX ---\n",
    "sarimax_scores = []\n",
    "# NOTE: SARIMAX can be slow to train. This loop may take a few minutes.\n",
    "\n",
    "print(\"\\nRunning cross-validation for SARIMAX...\")\n",
    "for i, (train_index, test_index) in enumerate(tscv.split(original_df)):\n",
    "    train_split = original_df.iloc[train_index]\n",
    "    test_split = original_df.iloc[test_index]\n",
    "\n",
    "    # Define and train the model\n",
    "    model_sarimax = SARIMAX(\n",
    "        train_split['value'],\n",
    "        order=(1, 1, 1),\n",
    "        seasonal_order=(1, 1, 1, 12)\n",
    "    ).fit(disp=False)\n",
    "\n",
    "    # Forecast\n",
    "    forecast = model_sarimax.get_forecast(steps=len(test_split)).predicted_mean\n",
    "\n",
    "    # Evaluate\n",
    "    score = calculate_smape(test_split['value'], forecast)\n",
    "    sarimax_scores.append(score)\n",
    "    print(f\"  -> Fold {i+1} sMAPE: {score:.2f}%\")\n",
    "\n",
    "# Add SARIMAX's robust scores\n",
    "es_scores['SARIMAX'] = {\n",
    "    'Mean sMAPE': np.mean(sarimax_scores),\n",
    "    'Std Dev sMAPE': np.std(sarimax_scores)\n",
    "}\n",
    "print(\"\\nSARIMAX validation complete.\")"
   ]
  },
  {
   "cell_type": "markdown",
   "id": "3aa0ee03",
   "metadata": {},
   "source": [
    "## Step 3: Test SARIMAX\n",
    "\n",
    "Now we run SARIMAX through the same cross-validation folds. SARIMAX training can be slow (a few minutes)."
   ]
  },
  {
   "cell_type": "code",
   "execution_count": 120,
   "id": "47deb117",
   "metadata": {},
   "outputs": [
    {
     "name": "stdout",
     "output_type": "stream",
     "text": [
      "\n",
      "==================================================\n",
      "--- FINAL MODEL SHOWDOWN RESULTS ---\n"
     ]
    },
    {
     "data": {
      "text/html": [
       "<div>\n",
       "<style scoped>\n",
       "    .dataframe tbody tr th:only-of-type {\n",
       "        vertical-align: middle;\n",
       "    }\n",
       "\n",
       "    .dataframe tbody tr th {\n",
       "        vertical-align: top;\n",
       "    }\n",
       "\n",
       "    .dataframe thead th {\n",
       "        text-align: right;\n",
       "    }\n",
       "</style>\n",
       "<table border=\"1\" class=\"dataframe\">\n",
       "  <thead>\n",
       "    <tr style=\"text-align: right;\">\n",
       "      <th></th>\n",
       "      <th>Mean sMAPE</th>\n",
       "      <th>Std Dev sMAPE</th>\n",
       "    </tr>\n",
       "  </thead>\n",
       "  <tbody>\n",
       "    <tr>\n",
       "      <th>SARIMAX</th>\n",
       "      <td>9.079362</td>\n",
       "      <td>8.828630</td>\n",
       "    </tr>\n",
       "    <tr>\n",
       "      <th>ES (Multiplicative, Damped)</th>\n",
       "      <td>9.380000</td>\n",
       "      <td>9.930000</td>\n",
       "    </tr>\n",
       "    <tr>\n",
       "      <th>ES (Additive)</th>\n",
       "      <td>15.250000</td>\n",
       "      <td>9.310000</td>\n",
       "    </tr>\n",
       "    <tr>\n",
       "      <th>Prophet (Simple)</th>\n",
       "      <td>27.703482</td>\n",
       "      <td>17.810736</td>\n",
       "    </tr>\n",
       "  </tbody>\n",
       "</table>\n",
       "</div>"
      ],
      "text/plain": [
       "                             Mean sMAPE  Std Dev sMAPE\n",
       "SARIMAX                        9.079362       8.828630\n",
       "ES (Multiplicative, Damped)    9.380000       9.930000\n",
       "ES (Additive)                 15.250000       9.310000\n",
       "Prophet (Simple)              27.703482      17.810736"
      ]
     },
     "metadata": {},
     "output_type": "display_data"
    },
    {
     "name": "stdout",
     "output_type": "stream",
     "text": [
      "\n",
      "CHAMPION MODEL: 'SARIMAX'\n"
     ]
    }
   ],
   "source": [
    "# --- 5. FINAL SHOWDOWN & SAVE CHAMPION ---\n",
    "final_comparison_df = pd.DataFrame(es_scores).T.sort_values(by='Mean sMAPE')\n",
    "\n",
    "print(\"\\n\" + \"=\"*50)\n",
    "print(\"--- FINAL MODEL SHOWDOWN RESULTS ---\")\n",
    "display(final_comparison_df)\n",
    "\n",
    "# Automatically select the champion\n",
    "champion_model_name = final_comparison_df.index[0]\n",
    "print(f\"\\nCHAMPION MODEL: '{champion_model_name}'\")\n",
    "\n",
    "# Train the champion model on the full dataset and save it\n",
    "# (You'll add the specific training code here for the winner, e.g., the ES Multiplicative model)\n",
    "# final_model = ... .fit()\n",
    "# joblib.dump(final_model, 'path/to/champion_model.pkl')\n",
    "# print(\"Champion model saved.\")"
   ]
  },
  {
   "cell_type": "markdown",
   "id": "1c86889d",
   "metadata": {},
   "source": [
    "## Step 4: Pick the Champion\n",
    "\n",
    "The table above shows all models ranked by average error. The model with the lowest **Mean sMAPE** wins and becomes our production model."
   ]
  },
  {
   "cell_type": "code",
   "execution_count": 121,
   "id": "1aba8085",
   "metadata": {},
   "outputs": [
    {
     "name": "stdout",
     "output_type": "stream",
     "text": [
      "Training the champion model (SARIMAX) on the entire dataset...\n",
      "Final model trained successfully.\n",
      "Final model trained successfully.\n",
      "\n",
      "Final model saved to: /Users/vijaykhot/material-forecasting-engine/ml/models/champion_forecasting_model.pkl\n",
      "\n",
      "Final model saved to: /Users/vijaykhot/material-forecasting-engine/ml/models/champion_forecasting_model.pkl\n"
     ]
    }
   ],
   "source": [
    "# --- 6. TRAIN & SAVE FINAL CHAMPION MODEL ---\n",
    "# The champion model has already been identified as SARIMAX\n",
    "print(f\"Training the champion model ({champion_model_name}) on the entire dataset...\")\n",
    "\n",
    "# Define and train the final model on ALL available data\n",
    "final_model = SARIMAX(\n",
    "    original_df['value'],\n",
    "    order=(1, 1, 1),\n",
    "    seasonal_order=(1, 1, 1, 12)\n",
    ").fit(disp=False)\n",
    "\n",
    "print(\"Final model trained successfully.\")\n",
    "\n",
    "# --- Save the Model Artifact ---\n",
    "# Create the directory if it doesn't exist\n",
    "model_dir = project_root / 'ml' / 'models'\n",
    "model_dir.mkdir(parents=True, exist_ok=True)\n",
    "\n",
    "# Define the file path and save the model\n",
    "model_path = model_dir / 'champion_forecasting_model.pkl'\n",
    "joblib.dump(final_model, model_path)\n",
    "\n",
    "print(f\"\\nFinal model saved to: {model_path}\")"
   ]
  },
  {
   "cell_type": "markdown",
   "id": "7281e177",
   "metadata": {},
   "source": [
    "## Step 5: Train & Save Champion\n",
    "\n",
    "We train the champion model on **all available data** and save it as a `.pkl` file so the backend can load and use it for predictions."
   ]
  },
  {
   "cell_type": "code",
   "execution_count": 122,
   "id": "a5a22311",
   "metadata": {},
   "outputs": [
    {
     "name": "stdout",
     "output_type": "stream",
     "text": [
      "Model manifest saved to: /Users/vijaykhot/material-forecasting-engine/ml/models/champion_forecasting_model_manifest.json\n"
     ]
    },
    {
     "data": {
      "text/plain": [
       "{'model_name': 'SARIMAX',\n",
       " 'model_class': 'statsmodels.tsa.statespace.sarimax.SARIMAX',\n",
       " 'training_date': '2025-10-16 07:42:20',\n",
       " 'training_data_end_date': '2025-08-01',\n",
       " 'cross_validation_metrics': {'mean_smape': 9.08, 'std_dev_smape': 8.83},\n",
       " 'model_parameters': {'order': (1, 1, 1), 'seasonal_order': (1, 1, 1, 12)}}"
      ]
     },
     "execution_count": 122,
     "metadata": {},
     "output_type": "execute_result"
    }
   ],
   "source": [
    "# --- 7. CREATE MODEL MANIFEST ---\n",
    "# Ensure we have canonical params & class for each candidate\n",
    "model_metadata = {\n",
    "    \"SARIMAX\": {\n",
    "        \"model_class\": \"statsmodels.tsa.statespace.sarimax.SARIMAX\",\n",
    "        \"model_parameters\": {\"order\": (1, 1, 1), \"seasonal_order\": (1, 1, 1, 12)}\n",
    "    },\n",
    "    \"ES (Multiplicative, Damped)\": {\n",
    "        \"model_class\": \"statsmodels.tsa.holtwinters.ExponentialSmoothing\",\n",
    "        \"model_parameters\": {\"trend\": \"add\", \"seasonal\": \"mul\", \"seasonal_periods\": 12, \"damped_trend\": True}\n",
    "    },\n",
    "    \"ES (Additive)\": {\n",
    "        \"model_class\": \"statsmodels.tsa.holtwinters.ExponentialSmoothing\",\n",
    "        \"model_parameters\": {\"trend\": \"add\", \"seasonal\": \"add\", \"seasonal_periods\": 12}\n",
    "    },\n",
    "    \"Prophet (Simple)\": {\n",
    "        \"model_class\": \"prophet.Prophet\",\n",
    "        \"model_parameters\": {}\n",
    "    }\n",
    "}\n",
    "\n",
    "# Extract the final scores for the champion model\n",
    "champion_scores = final_comparison_df.loc[champion_model_name]\n",
    "\n",
    "# Derive champion meta (fallback if not present)\n",
    "meta = model_metadata.get(champion_model_name, {\"model_class\": \"unknown\", \"model_parameters\": {}})\n",
    "model_class = meta[\"model_class\"]\n",
    "champion_params = meta[\"model_parameters\"]\n",
    "\n",
    "# Get the end date from the full training dataframe\n",
    "training_data_end_date = original_df.index.max().strftime(\"%Y-%m-%d\")\n",
    "\n",
    "# Create a metadata dictionary\n",
    "model_manifest = {\n",
    "    \"model_name\": champion_model_name,\n",
    "    \"model_class\": model_class,\n",
    "    \"training_date\": datetime.now().strftime(\"%Y-%m-%d %H:%M:%S\"),\n",
    "    \"training_data_end_date\": training_data_end_date,\n",
    "    \"cross_validation_metrics\": {\n",
    "        \"mean_smape\": round(float(champion_scores['Mean sMAPE']), 2),\n",
    "        \"std_dev_smape\": round(float(champion_scores['Std Dev sMAPE']), 2)\n",
    "    },\n",
    "    \"model_parameters\": champion_params\n",
    "}\n",
    "\n",
    "# Define the manifest path and save as a JSON file\n",
    "manifest_path = model_dir / 'champion_forecasting_model_manifest.json'\n",
    "with open(manifest_path, 'w') as f:\n",
    "    json.dump(model_manifest, f, indent=4)\n",
    "\n",
    "print(f\"Model manifest saved to: {manifest_path}\")\n",
    "model_manifest\n"
   ]
  },
  {
   "cell_type": "markdown",
   "id": "df6beff5",
   "metadata": {},
   "source": [
    "## Step 6: Save Model Metadata\n",
    "\n",
    "We write a small JSON file with the champion's name, class, training date, performance metrics, and hyperparameters. This makes the model easy to track and version."
   ]
  },
  {
   "cell_type": "code",
   "execution_count": 123,
   "id": "5334e856",
   "metadata": {},
   "outputs": [
    {
     "name": "stdout",
     "output_type": "stream",
     "text": [
      "Running a smoke test to verify the saved model...\n",
      "Model loaded successfully: SARIMAXResultsWrapper\n",
      "\n",
      "Smoke test forecast (next 3 steps):\n"
     ]
    },
    {
     "data": {
      "text/plain": [
       "2025-09-01    377.728304\n",
       "2025-10-01    376.081127\n",
       "2025-11-01    374.358854\n",
       "Freq: MS, Name: predicted_mean, dtype: float64"
      ]
     },
     "metadata": {},
     "output_type": "display_data"
    },
    {
     "name": "stdout",
     "output_type": "stream",
     "text": [
      "\n",
      "✅ Smoke test passed: Model can be loaded and used for prediction.\n"
     ]
    }
   ],
   "source": [
    "# --- 8. SMOKE TEST THE SAVED MODEL ---\n",
    "print(\"Running a smoke test to verify the saved model...\")\n",
    "\n",
    "try:\n",
    "    # Load the model from the .pkl file\n",
    "    loaded_model = joblib.load(model_path)\n",
    "    print(\"Model loaded successfully:\", type(loaded_model).__name__)\n",
    "\n",
    "    # Try common forecast APIs (statsmodels/results, sklearn-like, prophet-like)\n",
    "    if hasattr(loaded_model, \"forecast\"):\n",
    "        raw_forecast = loaded_model.forecast(3)\n",
    "    elif hasattr(loaded_model, \"get_forecast\"):\n",
    "        # statsmodels results objects often expose get_forecast\n",
    "        raw_forecast = loaded_model.get_forecast(steps=3).predicted_mean\n",
    "    elif hasattr(loaded_model, \"predict\"):\n",
    "        raw_forecast = loaded_model.predict(steps=3)\n",
    "    else:\n",
    "        raise AttributeError(\"Loaded model has no .forecast, .get_forecast, or .predict method.\")\n",
    "\n",
    "    # Normalize to pandas Series for consistent checks & display\n",
    "    if isinstance(raw_forecast, np.ndarray):\n",
    "        smoke_test_forecast = pd.Series(raw_forecast)\n",
    "    else:\n",
    "        smoke_test_forecast = pd.Series(raw_forecast)\n",
    "\n",
    "    print(\"\\nSmoke test forecast (next 3 steps):\")\n",
    "    display(smoke_test_forecast)\n",
    "\n",
    "    has_nans = smoke_test_forecast.isnull().any()\n",
    "    correct_len = len(smoke_test_forecast) == 3\n",
    "\n",
    "    if correct_len and not has_nans:\n",
    "        print(\"\\n✅ Smoke test passed: Model can be loaded and used for prediction.\")\n",
    "    else:\n",
    "        print(\"\\n❌ Smoke test failed.\")\n",
    "        print(f\"  - length OK: {correct_len}\")\n",
    "        print(f\"  - contains NaNs: {has_nans}\")\n",
    "\n",
    "except Exception as e:\n",
    "    print(\"\\n❌ Smoke test errored:\", str(e))\n",
    "    import traceback; traceback.print_exc()\n"
   ]
  },
  {
   "cell_type": "markdown",
   "id": "59b42413",
   "metadata": {},
   "source": [
    "## Step 7: Smoke Test\n",
    "\n",
    "We load the saved model and ask it to forecast 3 steps. If it returns valid numbers (no NaNs, correct length), the artifact is ready for production."
   ]
  },
  {
   "cell_type": "markdown",
   "id": "ccabc1c8",
   "metadata": {},
   "source": [
    "## Results & Next Steps\n",
    "\n",
    "### Winner\n",
    "**SARIMAX** is the champion with:\n",
    "- **Mean sMAPE: 9.08%** (best accuracy)\n",
    "- **Std Dev sMAPE: 8.83%** (most consistent)\n",
    "\n",
    "It narrowly beat Exponential Smoothing and significantly outperformed Prophet.\n",
    "\n",
    "### What's Next\n",
    "The champion model is saved and ready. Next sprint: build a FastAPI endpoint to serve forecasts."
   ]
  }
 ],
 "metadata": {
  "kernelspec": {
   "display_name": ".venv (3.13.3)",
   "language": "python",
   "name": "python3"
  },
  "language_info": {
   "codemirror_mode": {
    "name": "ipython",
    "version": 3
   },
   "file_extension": ".py",
   "mimetype": "text/x-python",
   "name": "python",
   "nbconvert_exporter": "python",
   "pygments_lexer": "ipython3",
   "version": "3.13.3"
  }
 },
 "nbformat": 4,
 "nbformat_minor": 5
}
